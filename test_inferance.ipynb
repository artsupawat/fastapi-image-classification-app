{
 "cells": [
  {
   "cell_type": "code",
   "execution_count": 1,
   "metadata": {},
   "outputs": [
    {
     "name": "stderr",
     "output_type": "stream",
     "text": [
      "c:\\Users\\norra\\miniconda3\\envs\\torch\\Lib\\site-packages\\tqdm\\auto.py:21: TqdmWarning: IProgress not found. Please update jupyter and ipywidgets. See https://ipywidgets.readthedocs.io/en/stable/user_install.html\n",
      "  from .autonotebook import tqdm as notebook_tqdm\n"
     ]
    }
   ],
   "source": [
    "import requests\n",
    "from PIL import Image\n",
    "from io import BytesIO\n",
    "from torchvision import datasets, transforms\n",
    "import timm\n",
    "import torch\n",
    "from timm import create_model\n",
    "import requests\n",
    "from PIL import Image\n",
    "from io import BytesIO\n",
    "import torch.nn.functional as F"
   ]
  },
  {
   "cell_type": "code",
   "execution_count": 5,
   "metadata": {},
   "outputs": [
    {
     "name": "stderr",
     "output_type": "stream",
     "text": [
      "<>:4: SyntaxWarning: invalid escape sequence '\\i'\n",
      "<>:5: SyntaxWarning: invalid escape sequence '\\i'\n",
      "<>:4: SyntaxWarning: invalid escape sequence '\\i'\n",
      "<>:5: SyntaxWarning: invalid escape sequence '\\i'\n",
      "C:\\Users\\norra\\AppData\\Local\\Temp\\ipykernel_20828\\3581534112.py:4: SyntaxWarning: invalid escape sequence '\\i'\n",
      "  checkpoint = torch.load('model\\image_classification_checkpoint.pth', map_location=torch.device('cpu'))\n",
      "C:\\Users\\norra\\AppData\\Local\\Temp\\ipykernel_20828\\3581534112.py:5: SyntaxWarning: invalid escape sequence '\\i'\n",
      "  model_test.load_state_dict(torch.load('model\\image_classification_checkpoint.pth')['model_state_dict'])\n",
      "C:\\Users\\norra\\AppData\\Local\\Temp\\ipykernel_20828\\3581534112.py:4: FutureWarning: You are using `torch.load` with `weights_only=False` (the current default value), which uses the default pickle module implicitly. It is possible to construct malicious pickle data which will execute arbitrary code during unpickling (See https://github.com/pytorch/pytorch/blob/main/SECURITY.md#untrusted-models for more details). In a future release, the default value for `weights_only` will be flipped to `True`. This limits the functions that could be executed during unpickling. Arbitrary objects will no longer be allowed to be loaded via this mode unless they are explicitly allowlisted by the user via `torch.serialization.add_safe_globals`. We recommend you start setting `weights_only=True` for any use case where you don't have full control of the loaded file. Please open an issue on GitHub for any issues related to this experimental feature.\n",
      "  checkpoint = torch.load('model\\image_classification_checkpoint.pth', map_location=torch.device('cpu'))\n",
      "C:\\Users\\norra\\AppData\\Local\\Temp\\ipykernel_20828\\3581534112.py:5: FutureWarning: You are using `torch.load` with `weights_only=False` (the current default value), which uses the default pickle module implicitly. It is possible to construct malicious pickle data which will execute arbitrary code during unpickling (See https://github.com/pytorch/pytorch/blob/main/SECURITY.md#untrusted-models for more details). In a future release, the default value for `weights_only` will be flipped to `True`. This limits the functions that could be executed during unpickling. Arbitrary objects will no longer be allowed to be loaded via this mode unless they are explicitly allowlisted by the user via `torch.serialization.add_safe_globals`. We recommend you start setting `weights_only=True` for any use case where you don't have full control of the loaded file. Please open an issue on GitHub for any issues related to this experimental feature.\n",
      "  model_test.load_state_dict(torch.load('model\\image_classification_checkpoint.pth')['model_state_dict'])\n"
     ]
    }
   ],
   "source": [
    "NUM_CLASSES = 10\n",
    "\n",
    "model_test = timm.create_model('resnet50d.ra4_e3600_r224_in1k', pretrained=False, num_classes=NUM_CLASSES)\n",
    "checkpoint = torch.load('model\\image_classification_checkpoint.pth', map_location=torch.device('cpu'))\n",
    "model_test.load_state_dict(torch.load('model\\image_classification_checkpoint.pth')['model_state_dict'])\n",
    "# device = torch.device('cuda' if torch.cuda.is_available() else 'cpu')\n",
    "device= 'cpu'\n",
    "model_test.eval() \n",
    "model_test = model_test.to(device)\n",
    "\n",
    "image_size = 288\n",
    "transform = transforms.Compose([\n",
    "    transforms.Resize((image_size, image_size)),                  # Resize the image to 224x224\n",
    "    transforms.ToTensor(),                    # Convert image to PyTorch tensor\n",
    "    transforms.Normalize([0.485, 0.456, 0.406], [0.229, 0.224, 0.225])  # Normalize using ImageNet stats\n",
    "])"
   ]
  },
  {
   "cell_type": "code",
   "execution_count": 18,
   "metadata": {},
   "outputs": [
    {
     "name": "stdout",
     "output_type": "stream",
     "text": [
      "Predicted class: dolphin  confidence:  99.99\n"
     ]
    }
   ],
   "source": [
    "url = \"https://img.pikbest.com/ai/illus_our/20230423/686c0ee4b22f02487b8485be2ee14428.jpg!w700wp\"\n",
    "\n",
    "\n",
    "# Send a GET request to the image URL\n",
    "response = requests.get(url)\n",
    "response.raise_for_status()  # Raise an error for bad responses\n",
    "\n",
    "# Open the image\n",
    "image = Image.open(BytesIO(response.content))\n",
    "\n",
    "# Convert the image to a PyTorch tensor\n",
    "image_tensor =  transform(image)\n",
    "image_tensor = image_tensor.unsqueeze(0)  # Add batch dimension\n",
    "outputs = model_test(image_tensor)  # Forward pass\n",
    "\n",
    "tenser_out = F.softmax(outputs, dim=1)\n",
    "normalized_output = tenser_out * 100\n",
    "predicted_label_index = torch.argmax(normalized_output, dim=1).item()\n",
    "confidence_percent = normalized_output[0][predicted_label_index].item()\n",
    "confidence_percent = round(confidence_percent, 2)\n",
    "\n",
    "# Get the predicted class with the highest score\n",
    "_, predicted = torch.max(outputs.data, 1)\n",
    "\n",
    "#all dataset class 10 calss\n",
    "class_dataset = list(checkpoint['label'].keys())\n",
    "\n",
    "predicted_class = class_dataset[predicted.item()]\n",
    "\n",
    "print(\"Predicted class:\", predicted_class ,\" confidence: \",confidence_percent)"
   ]
  },
  {
   "cell_type": "code",
   "execution_count": 21,
   "metadata": {},
   "outputs": [
    {
     "name": "stdout",
     "output_type": "stream",
     "text": [
      "['dolphin', 'kangaroo', 'koala', 'otter', 'porcupine', 'rhinoceros', 'seal', 'squirrel', 'wombat', 'zebra']\n",
      "Predicted class: dolphin 94.22\n"
     ]
    },
    {
     "name": "stderr",
     "output_type": "stream",
     "text": [
      "<>:1: SyntaxWarning: invalid escape sequence '\\d'\n",
      "<>:1: SyntaxWarning: invalid escape sequence '\\d'\n",
      "C:\\Users\\norra\\AppData\\Local\\Temp\\ipykernel_20828\\3141663111.py:1: SyntaxWarning: invalid escape sequence '\\d'\n",
      "  image_path = \"image\\dolphin-1495295845Sx5.jpg\"\n"
     ]
    }
   ],
   "source": [
    "image_path = \"image\\dolphin-1495295845Sx5.jpg\"\n",
    "\n",
    "image = Image.open(image_path)\n",
    "\n",
    "\n",
    "# Convert the image to a PyTorch tensor\n",
    "image_tensor =  transform(image)\n",
    "image_tensor = image_tensor.unsqueeze(0)  # Add batch dimension\n",
    "outputs = model_test(image_tensor)  # Forward pass\n",
    "\n",
    "# Get the predicted class with the highest score\n",
    "_, predicted = torch.max(outputs.data, 1)\n",
    "\n",
    "tenser_out = F.softmax(outputs, dim=1)\n",
    "normalized_output = tenser_out * 100\n",
    "predicted_label_index = torch.argmax(normalized_output, dim=1).item()\n",
    "confidence_percent = normalized_output[0][predicted_label_index].item()\n",
    "confidence_percent = round(confidence_percent, 2)\n",
    "\n",
    "#all dataset class 10 calss\n",
    "class_dataset = list(checkpoint['label'].keys())\n",
    "print(class_dataset)\n",
    "predicted_class = class_dataset[predicted.item()]\n",
    "print(\"Predicted class:\", predicted_class , confidence_percent)"
   ]
  },
  {
   "cell_type": "code",
   "execution_count": 24,
   "metadata": {},
   "outputs": [
    {
     "name": "stderr",
     "output_type": "stream",
     "text": [
      "<>:6: SyntaxWarning: invalid escape sequence '\\i'\n",
      "<>:6: SyntaxWarning: invalid escape sequence '\\i'\n",
      "C:\\Users\\norra\\AppData\\Local\\Temp\\ipykernel_20828\\4127617833.py:6: SyntaxWarning: invalid escape sequence '\\i'\n",
      "  checkpoint = torch.load('model\\image_classification_checkpoint.pth', map_location=torch.device('cpu'))\n",
      "C:\\Users\\norra\\AppData\\Local\\Temp\\ipykernel_20828\\4127617833.py:6: FutureWarning: You are using `torch.load` with `weights_only=False` (the current default value), which uses the default pickle module implicitly. It is possible to construct malicious pickle data which will execute arbitrary code during unpickling (See https://github.com/pytorch/pytorch/blob/main/SECURITY.md#untrusted-models for more details). In a future release, the default value for `weights_only` will be flipped to `True`. This limits the functions that could be executed during unpickling. Arbitrary objects will no longer be allowed to be loaded via this mode unless they are explicitly allowlisted by the user via `torch.serialization.add_safe_globals`. We recommend you start setting `weights_only=True` for any use case where you don't have full control of the loaded file. Please open an issue on GitHub for any issues related to this experimental feature.\n",
      "  checkpoint = torch.load('model\\image_classification_checkpoint.pth', map_location=torch.device('cpu'))\n"
     ]
    },
    {
     "data": {
      "text/plain": [
       "'dolphin'"
      ]
     },
     "execution_count": 24,
     "metadata": {},
     "output_type": "execute_result"
    }
   ],
   "source": [
    "NUM_CLASSES = 10\n",
    "# Define the URL of the FastAPI endpoint\n",
    "image_url = \"https://img.pikbest.com/ai/illus_our/20230423/686c0ee4b22f02487b8485be2ee14428.jpg!w700wp\"\n",
    "\n",
    "model = timm.create_model('resnet50d.ra4_e3600_r224_in1k', pretrained=False, num_classes=NUM_CLASSES)\n",
    "checkpoint = torch.load('model\\image_classification_checkpoint.pth', map_location=torch.device('cpu'))\n",
    "model.load_state_dict(checkpoint['model_state_dict'])\n",
    "model.eval()  # Set the model to evaluation mode\n",
    "\n",
    "image_size = 288\n",
    "transform = transforms.Compose([\n",
    "    transforms.Resize((image_size, image_size)),  # Resize the image\n",
    "    transforms.ToTensor(),                          # Convert image to PyTorch tensor\n",
    "    transforms.Normalize([0.485, 0.456, 0.406], [0.229, 0.224, 0.225])  # Normalize\n",
    "])\n",
    "class_dataset = list(checkpoint['label'].keys())\n",
    "\n",
    "\n",
    "# Fetch the image from the provided URL\n",
    "response = requests.get(image_url)\n",
    "response.raise_for_status()  # Raise an error for bad responses\n",
    "\n",
    "# Open the image\n",
    "image = Image.open(BytesIO(response.content))\n",
    "\n",
    "# Apply the transformation\n",
    "image_tensor = transform(image)\n",
    "image_tensor = image_tensor.unsqueeze(0)  # Add batch dimension\n",
    "\n",
    "# Forward pass\n",
    "with torch.no_grad():\n",
    "    outputs = model(image_tensor)\n",
    "\n",
    "# Get the predicted class with the highest score\n",
    "_, predicted = torch.max(outputs.data, 1)\n",
    "\n",
    "# Get the predicted class label\n",
    "predicted_label = class_dataset[predicted.item()]\n",
    "\n",
    "predicted_label"
   ]
  },
  {
   "cell_type": "markdown",
   "metadata": {},
   "source": [
    "#test api request"
   ]
  },
  {
   "cell_type": "code",
   "execution_count": 36,
   "metadata": {},
   "outputs": [
    {
     "name": "stdout",
     "output_type": "stream",
     "text": [
      "{'welcome': 'model image prediction'}\n"
     ]
    }
   ],
   "source": [
    "import requests\n",
    "\n",
    "# Define the URL of the FastAPI endpoint\n",
    "url = \"http://127.0.0.1:8000\"\n",
    "\n",
    "# Send the PUT request\n",
    "response = requests.get(url)\n",
    "\n",
    "# Print the response from the server\n",
    "print(response.json())"
   ]
  },
  {
   "cell_type": "code",
   "execution_count": 40,
   "metadata": {},
   "outputs": [
    {
     "name": "stdout",
     "output_type": "stream",
     "text": [
      "{'predicted_class': 'dolphin', 'confidence_percent': 99.99}\n"
     ]
    }
   ],
   "source": [
    "import requests\n",
    "\n",
    "# Define the URL of the FastAPI endpoint\n",
    "url = \"http://127.0.0.1:8000/predict_url\"\n",
    "\n",
    "# Define the image URL to be sent in the body\n",
    "data = {\n",
    "    \"image_url\": \"https://img.pikbest.com/ai/illus_our/20230423/686c0ee4b22f02487b8485be2ee14428.jpg!w700wp\"\n",
    "}\n",
    "\n",
    "# Send the POST request with the image URL as form data\n",
    "response = requests.post(url, data=data)\n",
    "\n",
    "# Print the response from the server\n",
    "print(response.json())\n"
   ]
  },
  {
   "cell_type": "code",
   "execution_count": 41,
   "metadata": {},
   "outputs": [
    {
     "name": "stdout",
     "output_type": "stream",
     "text": [
      "{'predicted_class': 'dolphin', 'confidence_percent': 94.22}\n"
     ]
    }
   ],
   "source": [
    "import requests\n",
    "\n",
    "# Define the URL of the FastAPI endpoint\n",
    "url = \"http://127.0.0.1:8000/predict_file\"\n",
    "\n",
    "# Open the image file in binary mode\n",
    "with open(\"image/dolphin-1495295845Sx5.jpg\", \"rb\") as file:\n",
    "    # Send the POST request with the image file as form-data\n",
    "    files = {\"file\": file}\n",
    "    response = requests.post(url, files=files)\n",
    "\n",
    "# Print the response from the server\n",
    "print(response.json())\n"
   ]
  }
 ],
 "metadata": {
  "kernelspec": {
   "display_name": "torch",
   "language": "python",
   "name": "python3"
  },
  "language_info": {
   "codemirror_mode": {
    "name": "ipython",
    "version": 3
   },
   "file_extension": ".py",
   "mimetype": "text/x-python",
   "name": "python",
   "nbconvert_exporter": "python",
   "pygments_lexer": "ipython3",
   "version": "3.12.5"
  }
 },
 "nbformat": 4,
 "nbformat_minor": 2
}
